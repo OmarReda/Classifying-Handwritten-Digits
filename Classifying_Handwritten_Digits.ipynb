{
  "nbformat": 4,
  "nbformat_minor": 0,
  "metadata": {
    "colab": {
      "name": "Classifying Handwritten Digits.ipynb",
      "provenance": [],
      "collapsed_sections": [],
      "toc_visible": true
    },
    "kernelspec": {
      "name": "python3",
      "display_name": "Python 3"
    },
    "accelerator": "GPU"
  },
  "cells": [
    {
      "cell_type": "markdown",
      "metadata": {
        "id": "lOUwPcJ63vc7"
      },
      "source": [
        "# **Project Objective**\r\n",
        "\r\n",
        "* The project objective is to classify a given image of a handwritten digit into one of 10 classes representing integer values from 0 to 9, inclusively.\r\n",
        "\r\n",
        "# **What is MNIST Classification Problem ?**\r\n",
        "\r\n",
        "* The MNIST dataset is an acronym that stands for the Modified National Institute of Standards and Technology dataset.\r\n",
        "* The MNIST handwritten digit classification problem is a standard dataset used in computer vision and deep learning.\r\n",
        "* It is a dataset of 60,000 small square 28×28 pixel grayscale images of handwritten single digits between 0 and 9."
      ]
    },
    {
      "cell_type": "markdown",
      "metadata": {
        "id": "tyjepI8-42qq"
      },
      "source": [
        "------------------------\r\n",
        "# **Code Starts Here**\r\n",
        "------------------------"
      ]
    },
    {
      "cell_type": "markdown",
      "metadata": {
        "id": "mvOgyeJd2fIX"
      },
      "source": [
        "# ***Imports***"
      ]
    },
    {
      "cell_type": "code",
      "metadata": {
        "id": "p1PbIIli1LEa",
        "colab": {
          "base_uri": "https://localhost:8080/"
        },
        "outputId": "78ef1222-9315-4547-c405-3cf69dfedfc3"
      },
      "source": [
        "##############################\r\n",
        "###         Imports        ###\r\n",
        "##############################\r\n",
        "import tensorflow as tf\r\n",
        "import matplotlib.pyplot as plt\r\n",
        "from tensorflow.keras.models import Sequential\r\n",
        "from tensorflow.keras.layers import Dense, Conv2D, Dropout, Flatten, MaxPooling2D\r\n",
        "from keras.optimizers import SGD\r\n",
        "\r\n",
        "print(\"....Done....\")"
      ],
      "execution_count": 37,
      "outputs": [
        {
          "output_type": "stream",
          "text": [
            "....Done....\n"
          ],
          "name": "stdout"
        }
      ]
    },
    {
      "cell_type": "markdown",
      "metadata": {
        "id": "E7yBdEiq2jJR"
      },
      "source": [
        "# ***Loading MNIST Data***"
      ]
    },
    {
      "cell_type": "code",
      "metadata": {
        "id": "Qk5gqvOt1MpW",
        "colab": {
          "base_uri": "https://localhost:8080/"
        },
        "outputId": "6f0c48d9-59c6-476e-c58d-290dc41afba7"
      },
      "source": [
        "# Load MNIST Dataset\r\n",
        "(x_train, y_train), (x_test, y_test) = tf.keras.datasets.mnist.load_data()\r\n",
        "\r\n",
        "print(\"....Done....\")"
      ],
      "execution_count": 38,
      "outputs": [
        {
          "output_type": "stream",
          "text": [
            "....Done....\n"
          ],
          "name": "stdout"
        }
      ]
    },
    {
      "cell_type": "markdown",
      "metadata": {
        "id": "uHprHRS22xEl"
      },
      "source": [
        "# ***Check Any Value Inside Dataset***"
      ]
    },
    {
      "cell_type": "code",
      "metadata": {
        "id": "9SitGAlF1N_J",
        "colab": {
          "base_uri": "https://localhost:8080/",
          "height": 298
        },
        "outputId": "13234dba-f430-49ad-9a0e-4785fd182225"
      },
      "source": [
        "# Checking Random Value\r\n",
        "# You may select anything up to 60,000\r\n",
        "image_index = 7777 \r\n",
        "print(y_train[image_index]) # The label is 8\r\n",
        "plt.imshow(x_train[image_index], cmap='Greys')\r\n",
        "\r\n",
        "#Print the shape of Training Array\r\n",
        "x_train.shape\r\n"
      ],
      "execution_count": 41,
      "outputs": [
        {
          "output_type": "stream",
          "text": [
            "8\n"
          ],
          "name": "stdout"
        },
        {
          "output_type": "execute_result",
          "data": {
            "text/plain": [
              "(60000, 28, 28)"
            ]
          },
          "metadata": {
            "tags": []
          },
          "execution_count": 41
        },
        {
          "output_type": "display_data",
          "data": {
            "image/png": "[encoded data removed]",
            "text/plain": [
              "<Figure size 432x288 with 1 Axes>"
            ]
          },
          "metadata": {
            "tags": [],
            "needs_background": "light"
          }
        }
      ]
    },
    {
      "cell_type": "markdown",
      "metadata": {
        "id": "lawUC1cF3B7E"
      },
      "source": [
        "# ***Preparing The Data For Training***"
      ]
    },
    {
      "cell_type": "markdown",
      "metadata": {
        "id": "P5xl2XSA25CJ"
      },
      "source": [
        "## ***Images Reshape To 4 Dimensions***"
      ]
    },
    {
      "cell_type": "code",
      "metadata": {
        "id": "_vQ_EXoD1Qmd",
        "colab": {
          "base_uri": "https://localhost:8080/"
        },
        "outputId": "5e212429-9fb2-4796-c976-407cee1ef912"
      },
      "source": [
        "# Reshaping the array to 4-dims so that it can work with the Keras API\r\n",
        "x_train = x_train.reshape(x_train.shape[0], 28, 28, 1)\r\n",
        "x_test = x_test.reshape(x_test.shape[0], 28, 28, 1)\r\n",
        "input_shape = (28, 28, 1)\r\n",
        "\r\n",
        "print(\"....Done....\")"
      ],
      "execution_count": 42,
      "outputs": [
        {
          "output_type": "stream",
          "text": [
            "....Done....\n"
          ],
          "name": "stdout"
        }
      ]
    },
    {
      "cell_type": "markdown",
      "metadata": {
        "id": "df3HA28u3JmQ"
      },
      "source": [
        "## ***Values To Float***"
      ]
    },
    {
      "cell_type": "code",
      "metadata": {
        "id": "E8U94I7d1Rrd",
        "colab": {
          "base_uri": "https://localhost:8080/"
        },
        "outputId": "72703493-bdd9-4b7d-9099-a69bbcca80e0"
      },
      "source": [
        "# Making sure that the values are float so that we can get decimal points after division\r\n",
        "x_train = x_train.astype('float32')\r\n",
        "x_test = x_test.astype('float32')\r\n",
        "\r\n",
        "print(\"....Done....\")"
      ],
      "execution_count": 43,
      "outputs": [
        {
          "output_type": "stream",
          "text": [
            "....Done....\n"
          ],
          "name": "stdout"
        }
      ]
    },
    {
      "cell_type": "markdown",
      "metadata": {
        "id": "v0B8Wdpd3SSu"
      },
      "source": [
        "## ***Normalization***"
      ]
    },
    {
      "cell_type": "code",
      "metadata": {
        "id": "rCRENYjV1TCl",
        "colab": {
          "base_uri": "https://localhost:8080/"
        },
        "outputId": "3ca8e0c8-e968-4adf-9d9a-cf3a65ca8b65"
      },
      "source": [
        "# Normalizing the RGB codes by dividing it to the max RGB value.\r\n",
        "x_train /= 255\r\n",
        "x_test /= 255\r\n",
        "print('x_train shape:', x_train.shape)\r\n",
        "print('Number of images in x_train', x_train.shape[0])\r\n",
        "print('Number of images in x_test', x_test.shape[0])\r\n",
        "\r\n",
        "print(\"....Done....\")"
      ],
      "execution_count": 44,
      "outputs": [
        {
          "output_type": "stream",
          "text": [
            "x_train shape: (60000, 28, 28, 1)\n",
            "Number of images in x_train 60000\n",
            "Number of images in x_test 10000\n",
            "....Done....\n"
          ],
          "name": "stdout"
        }
      ]
    },
    {
      "cell_type": "markdown",
      "metadata": {
        "id": "aADU6JAm3aqQ"
      },
      "source": [
        "# ***CNN Model Construction***"
      ]
    },
    {
      "cell_type": "code",
      "metadata": {
        "id": "q5Gnrl84x72z",
        "colab": {
          "base_uri": "https://localhost:8080/"
        },
        "outputId": "e5f51eb4-aa01-4250-d626-0ad24b562000"
      },
      "source": [
        "# Creating a Sequential Model and adding the layers\r\n",
        "model = Sequential()\r\n",
        "model.add(Conv2D(28, kernel_size=(3,3), input_shape=input_shape))\r\n",
        "model.add(MaxPooling2D(pool_size=(2, 2)))\r\n",
        "model.add(Flatten()) # Flattening the 2D arrays for fully connected layers\r\n",
        "model.add(Dense(128, activation=tf.nn.relu))\r\n",
        "model.add(Dropout(0.2))\r\n",
        "model.add(Dense(10,activation=tf.nn.softmax))\r\n",
        "# compile model\r\n",
        "model.compile(optimizer='adam', loss='sparse_categorical_crossentropy', metrics=['accuracy'])\r\n",
        "model.fit(x=x_train,y=y_train, epochs=10)\r\n",
        "model.evaluate(x_test, y_test)\r\n",
        "\r\n",
        "print(\"....Done....\")"
      ],
      "execution_count": 45,
      "outputs": [
        {
          "output_type": "stream",
          "text": [
            "Epoch 1/10\n",
            "1875/1875 [==============================] - 4s 2ms/step - loss: 0.3655 - accuracy: 0.8939\n",
            "Epoch 2/10\n",
            "1875/1875 [==============================] - 4s 2ms/step - loss: 0.0865 - accuracy: 0.9729\n",
            "Epoch 3/10\n",
            "1875/1875 [==============================] - 4s 2ms/step - loss: 0.0540 - accuracy: 0.9840\n",
            "Epoch 4/10\n",
            "1875/1875 [==============================] - 4s 2ms/step - loss: 0.0417 - accuracy: 0.9871\n",
            "Epoch 5/10\n",
            "1875/1875 [==============================] - 4s 2ms/step - loss: 0.0308 - accuracy: 0.9904\n",
            "Epoch 6/10\n",
            "1875/1875 [==============================] - 4s 2ms/step - loss: 0.0246 - accuracy: 0.9917\n",
            "Epoch 7/10\n",
            "1875/1875 [==============================] - 4s 2ms/step - loss: 0.0229 - accuracy: 0.9920\n",
            "Epoch 8/10\n",
            "1875/1875 [==============================] - 4s 2ms/step - loss: 0.0190 - accuracy: 0.9933\n",
            "Epoch 9/10\n",
            "1875/1875 [==============================] - 4s 2ms/step - loss: 0.0173 - accuracy: 0.9940\n",
            "Epoch 10/10\n",
            "1875/1875 [==============================] - 4s 2ms/step - loss: 0.0158 - accuracy: 0.9942\n",
            "313/313 [==============================] - 1s 2ms/step - loss: 0.0665 - accuracy: 0.9844\n",
            "....Done....\n"
          ],
          "name": "stdout"
        }
      ]
    },
    {
      "cell_type": "markdown",
      "metadata": {
        "id": "TEqDqBZ33ijO"
      },
      "source": [
        "# ***Testing***"
      ]
    },
    {
      "cell_type": "code",
      "metadata": {
        "id": "pXlgaC1XzRnW",
        "colab": {
          "base_uri": "https://localhost:8080/",
          "height": 282
        },
        "outputId": "142e769b-21ca-4917-d930-c9ca79d27934"
      },
      "source": [
        "############################\r\n",
        "##         Test 1         ##\r\n",
        "############################\r\n",
        "image_index = 9431\r\n",
        "plt.imshow(x_test[image_index].reshape(28, 28),cmap='Greys')\r\n",
        "pred = model.predict(x_test[image_index].reshape(1, 28, 28, 1))\r\n",
        "print(pred.argmax())"
      ],
      "execution_count": 48,
      "outputs": [
        {
          "output_type": "stream",
          "text": [
            "3\n"
          ],
          "name": "stdout"
        },
        {
          "output_type": "display_data",
          "data": {
            "image/png": "[encoded data removed]",
            "text/plain": [
              "<Figure size 432x288 with 1 Axes>"
            ]
          },
          "metadata": {
            "tags": [],
            "needs_background": "light"
          }
        }
      ]
    },
    {
      "cell_type": "code",
      "metadata": {
        "id": "MLwnTFJUzS8l",
        "colab": {
          "base_uri": "https://localhost:8080/",
          "height": 282
        },
        "outputId": "84bab1f4-1d2e-4cfc-cf65-ca6a0c96f793"
      },
      "source": [
        "############################\r\n",
        "##         Test 2         ##\r\n",
        "############################\r\n",
        "image_index = 6899\r\n",
        "plt.imshow(x_test[image_index].reshape(28, 28),cmap='Greys')\r\n",
        "pred = model.predict(x_test[image_index].reshape(1, 28, 28, 1))\r\n",
        "print(pred.argmax())"
      ],
      "execution_count": 49,
      "outputs": [
        {
          "output_type": "stream",
          "text": [
            "5\n"
          ],
          "name": "stdout"
        },
        {
          "output_type": "display_data",
          "data": {
            "image/png": "[encoded data removed]",
            "text/plain": [
              "<Figure size 432x288 with 1 Axes>"
            ]
          },
          "metadata": {
            "tags": [],
            "needs_background": "light"
          }
        }
      ]
    },
    {
      "cell_type": "code",
      "metadata": {
        "id": "sUDkz3ONzVLI",
        "colab": {
          "base_uri": "https://localhost:8080/",
          "height": 282
        },
        "outputId": "fdea391d-9990-4c63-c296-b55b53e27e71"
      },
      "source": [
        "############################\r\n",
        "##         Test 3         ##\r\n",
        "############################\r\n",
        "image_index = 689\r\n",
        "plt.imshow(x_test[image_index].reshape(28, 28),cmap='Greys')\r\n",
        "pred = model.predict(x_test[image_index].reshape(1, 28, 28, 1))\r\n",
        "print(pred.argmax())"
      ],
      "execution_count": 50,
      "outputs": [
        {
          "output_type": "stream",
          "text": [
            "7\n"
          ],
          "name": "stdout"
        },
        {
          "output_type": "display_data",
          "data": {
            "image/png": "[encoded data removed]",
            "text/plain": [
              "<Figure size 432x288 with 1 Axes>"
            ]
          },
          "metadata": {
            "tags": [],
            "needs_background": "light"
          }
        }
      ]
    },
    {
      "cell_type": "code",
      "metadata": {
        "id": "BZMHEsOnz7xq",
        "colab": {
          "base_uri": "https://localhost:8080/",
          "height": 282
        },
        "outputId": "a62ba74f-bfee-41e7-9963-1b80b822a51d"
      },
      "source": [
        "############################\r\n",
        "##         Test 4         ##\r\n",
        "############################\r\n",
        "image_index = 1\r\n",
        "plt.imshow(x_test[image_index].reshape(28, 28),cmap='Greys')\r\n",
        "pred = model.predict(x_test[image_index].reshape(1, 28, 28, 1))\r\n",
        "print(pred.argmax())"
      ],
      "execution_count": 51,
      "outputs": [
        {
          "output_type": "stream",
          "text": [
            "2\n"
          ],
          "name": "stdout"
        },
        {
          "output_type": "display_data",
          "data": {
            "image/png": "[encoded data removed]",
            "text/plain": [
              "<Figure size 432x288 with 1 Axes>"
            ]
          },
          "metadata": {
            "tags": [],
            "needs_background": "light"
          }
        }
      ]
    },
    {
      "cell_type": "code",
      "metadata": {
        "colab": {
          "base_uri": "https://localhost:8080/",
          "height": 282
        },
        "id": "JNW9coQv9Ssu",
        "outputId": "56c430bb-9f87-4e68-b685-c3faeeb44b5f"
      },
      "source": [
        "############################\r\n",
        "##         Test 5         ##\r\n",
        "############################\r\n",
        "image_index = 5123\r\n",
        "plt.imshow(x_test[image_index].reshape(28, 28),cmap='Greys')\r\n",
        "pred = model.predict(x_test[image_index].reshape(1, 28, 28, 1))\r\n",
        "print(pred.argmax())"
      ],
      "execution_count": 52,
      "outputs": [
        {
          "output_type": "stream",
          "text": [
            "4\n"
          ],
          "name": "stdout"
        },
        {
          "output_type": "display_data",
          "data": {
            "image/png": "[encoded data removed]",
            "text/plain": [
              "<Figure size 432x288 with 1 Axes>"
            ]
          },
          "metadata": {
            "tags": [],
            "needs_background": "light"
          }
        }
      ]
    },
    {
      "cell_type": "markdown",
      "metadata": {
        "id": "RSbG9l9K3l8Y"
      },
      "source": [
        "## ***Extra Tests***"
      ]
    },
    {
      "cell_type": "code",
      "metadata": {
        "id": "0bBUFXbD7eEy"
      },
      "source": [
        "#########################################################\r\n",
        "## Copy The Last 3 Lines & Just Change The Image Index ##\r\n",
        "## With Values Between 0 to 10,000 To Test The Model   ##\r\n",
        "#########################################################\r\n",
        "# image_index = # AT ANY NUMBER YOU LIKE BETWEEN THE RANGE MENTIONED ABOVE\r\n",
        "# plt.imshow(x_test[image_index].reshape(28, 28),cmap='Greys')\r\n",
        "# pred = model.predict(x_test[image_index].reshape(1, 28, 28, 1))\r\n",
        "# print(pred.argmax())"
      ],
      "execution_count": null,
      "outputs": []
    }
  ]
}